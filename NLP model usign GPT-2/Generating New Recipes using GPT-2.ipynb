{
  "nbformat": 4,
  "nbformat_minor": 0,
  "metadata": {
    "kernelspec": {
      "display_name": "Python 3",
      "language": "python",
      "name": "python3"
    },
    "language_info": {
      "codemirror_mode": {
        "name": "ipython",
        "version": 3
      },
      "file_extension": ".py",
      "mimetype": "text/x-python",
      "name": "python",
      "nbconvert_exporter": "python",
      "pygments_lexer": "ipython3",
      "version": "3.8.8"
    },
    "colab": {
      "name": "Task1.ipynb",
      "provenance": [],
      "collapsed_sections": []
    },
    "accelerator": "GPU",
    "widgets": {
      "application/vnd.jupyter.widget-state+json": {
        "d37a387315974456a4eec027b3a5f116": {
          "model_module": "@jupyter-widgets/controls",
          "model_name": "HBoxModel",
          "state": {
            "_view_name": "HBoxView",
            "_dom_classes": [],
            "_model_name": "HBoxModel",
            "_view_module": "@jupyter-widgets/controls",
            "_model_module_version": "1.5.0",
            "_view_count": null,
            "_view_module_version": "1.5.0",
            "box_style": "",
            "layout": "IPY_MODEL_571bac6d6ec940df9a8aafbb0271896d",
            "_model_module": "@jupyter-widgets/controls",
            "children": [
              "IPY_MODEL_54dec9c4d1ed422d84cbe5c6c11945d0",
              "IPY_MODEL_0972f04d751d4b51ac4533a41a08e46f"
            ]
          }
        },
        "571bac6d6ec940df9a8aafbb0271896d": {
          "model_module": "@jupyter-widgets/base",
          "model_name": "LayoutModel",
          "state": {
            "_view_name": "LayoutView",
            "grid_template_rows": null,
            "right": null,
            "justify_content": null,
            "_view_module": "@jupyter-widgets/base",
            "overflow": null,
            "_model_module_version": "1.2.0",
            "_view_count": null,
            "flex_flow": null,
            "width": null,
            "min_width": null,
            "border": null,
            "align_items": null,
            "bottom": null,
            "_model_module": "@jupyter-widgets/base",
            "top": null,
            "grid_column": null,
            "overflow_y": null,
            "overflow_x": null,
            "grid_auto_flow": null,
            "grid_area": null,
            "grid_template_columns": null,
            "flex": null,
            "_model_name": "LayoutModel",
            "justify_items": null,
            "grid_row": null,
            "max_height": null,
            "align_content": null,
            "visibility": null,
            "align_self": null,
            "height": null,
            "min_height": null,
            "padding": null,
            "grid_auto_rows": null,
            "grid_gap": null,
            "max_width": null,
            "order": null,
            "_view_module_version": "1.2.0",
            "grid_template_areas": null,
            "object_position": null,
            "object_fit": null,
            "grid_auto_columns": null,
            "margin": null,
            "display": null,
            "left": null
          }
        },
        "54dec9c4d1ed422d84cbe5c6c11945d0": {
          "model_module": "@jupyter-widgets/controls",
          "model_name": "FloatProgressModel",
          "state": {
            "_view_name": "ProgressView",
            "style": "IPY_MODEL_7c2accd93bcb477892de9fa0bd3788ac",
            "_dom_classes": [],
            "description": "Downloading: 100%",
            "_model_name": "FloatProgressModel",
            "bar_style": "success",
            "max": 762,
            "_view_module": "@jupyter-widgets/controls",
            "_model_module_version": "1.5.0",
            "value": 762,
            "_view_count": null,
            "_view_module_version": "1.5.0",
            "orientation": "horizontal",
            "min": 0,
            "description_tooltip": null,
            "_model_module": "@jupyter-widgets/controls",
            "layout": "IPY_MODEL_8fefe4a8acc241b6b3c1efc97cea0f6a"
          }
        },
        "0972f04d751d4b51ac4533a41a08e46f": {
          "model_module": "@jupyter-widgets/controls",
          "model_name": "HTMLModel",
          "state": {
            "_view_name": "HTMLView",
            "style": "IPY_MODEL_11022f03eeb44c53a5a95b1f94002ea3",
            "_dom_classes": [],
            "description": "",
            "_model_name": "HTMLModel",
            "placeholder": "​",
            "_view_module": "@jupyter-widgets/controls",
            "_model_module_version": "1.5.0",
            "value": " 762/762 [00:01&lt;00:00, 537B/s]",
            "_view_count": null,
            "_view_module_version": "1.5.0",
            "description_tooltip": null,
            "_model_module": "@jupyter-widgets/controls",
            "layout": "IPY_MODEL_6906209b3b6047ebb060e0e84b3c4021"
          }
        },
        "7c2accd93bcb477892de9fa0bd3788ac": {
          "model_module": "@jupyter-widgets/controls",
          "model_name": "ProgressStyleModel",
          "state": {
            "_view_name": "StyleView",
            "_model_name": "ProgressStyleModel",
            "description_width": "initial",
            "_view_module": "@jupyter-widgets/base",
            "_model_module_version": "1.5.0",
            "_view_count": null,
            "_view_module_version": "1.2.0",
            "bar_color": null,
            "_model_module": "@jupyter-widgets/controls"
          }
        },
        "8fefe4a8acc241b6b3c1efc97cea0f6a": {
          "model_module": "@jupyter-widgets/base",
          "model_name": "LayoutModel",
          "state": {
            "_view_name": "LayoutView",
            "grid_template_rows": null,
            "right": null,
            "justify_content": null,
            "_view_module": "@jupyter-widgets/base",
            "overflow": null,
            "_model_module_version": "1.2.0",
            "_view_count": null,
            "flex_flow": null,
            "width": null,
            "min_width": null,
            "border": null,
            "align_items": null,
            "bottom": null,
            "_model_module": "@jupyter-widgets/base",
            "top": null,
            "grid_column": null,
            "overflow_y": null,
            "overflow_x": null,
            "grid_auto_flow": null,
            "grid_area": null,
            "grid_template_columns": null,
            "flex": null,
            "_model_name": "LayoutModel",
            "justify_items": null,
            "grid_row": null,
            "max_height": null,
            "align_content": null,
            "visibility": null,
            "align_self": null,
            "height": null,
            "min_height": null,
            "padding": null,
            "grid_auto_rows": null,
            "grid_gap": null,
            "max_width": null,
            "order": null,
            "_view_module_version": "1.2.0",
            "grid_template_areas": null,
            "object_position": null,
            "object_fit": null,
            "grid_auto_columns": null,
            "margin": null,
            "display": null,
            "left": null
          }
        },
        "11022f03eeb44c53a5a95b1f94002ea3": {
          "model_module": "@jupyter-widgets/controls",
          "model_name": "DescriptionStyleModel",
          "state": {
            "_view_name": "StyleView",
            "_model_name": "DescriptionStyleModel",
            "description_width": "",
            "_view_module": "@jupyter-widgets/base",
            "_model_module_version": "1.5.0",
            "_view_count": null,
            "_view_module_version": "1.2.0",
            "_model_module": "@jupyter-widgets/controls"
          }
        },
        "6906209b3b6047ebb060e0e84b3c4021": {
          "model_module": "@jupyter-widgets/base",
          "model_name": "LayoutModel",
          "state": {
            "_view_name": "LayoutView",
            "grid_template_rows": null,
            "right": null,
            "justify_content": null,
            "_view_module": "@jupyter-widgets/base",
            "overflow": null,
            "_model_module_version": "1.2.0",
            "_view_count": null,
            "flex_flow": null,
            "width": null,
            "min_width": null,
            "border": null,
            "align_items": null,
            "bottom": null,
            "_model_module": "@jupyter-widgets/base",
            "top": null,
            "grid_column": null,
            "overflow_y": null,
            "overflow_x": null,
            "grid_auto_flow": null,
            "grid_area": null,
            "grid_template_columns": null,
            "flex": null,
            "_model_name": "LayoutModel",
            "justify_items": null,
            "grid_row": null,
            "max_height": null,
            "align_content": null,
            "visibility": null,
            "align_self": null,
            "height": null,
            "min_height": null,
            "padding": null,
            "grid_auto_rows": null,
            "grid_gap": null,
            "max_width": null,
            "order": null,
            "_view_module_version": "1.2.0",
            "grid_template_areas": null,
            "object_position": null,
            "object_fit": null,
            "grid_auto_columns": null,
            "margin": null,
            "display": null,
            "left": null
          }
        },
        "29fb61789af141feb9c0b874102157ec": {
          "model_module": "@jupyter-widgets/controls",
          "model_name": "HBoxModel",
          "state": {
            "_view_name": "HBoxView",
            "_dom_classes": [],
            "_model_name": "HBoxModel",
            "_view_module": "@jupyter-widgets/controls",
            "_model_module_version": "1.5.0",
            "_view_count": null,
            "_view_module_version": "1.5.0",
            "box_style": "",
            "layout": "IPY_MODEL_50f6e623f02647969fca9e2e169ad6be",
            "_model_module": "@jupyter-widgets/controls",
            "children": [
              "IPY_MODEL_db8ce173dbb74cf18e6bd29402c553ab",
              "IPY_MODEL_11aed7382963491b92d3fffebb8de49a"
            ]
          }
        },
        "50f6e623f02647969fca9e2e169ad6be": {
          "model_module": "@jupyter-widgets/base",
          "model_name": "LayoutModel",
          "state": {
            "_view_name": "LayoutView",
            "grid_template_rows": null,
            "right": null,
            "justify_content": null,
            "_view_module": "@jupyter-widgets/base",
            "overflow": null,
            "_model_module_version": "1.2.0",
            "_view_count": null,
            "flex_flow": null,
            "width": null,
            "min_width": null,
            "border": null,
            "align_items": null,
            "bottom": null,
            "_model_module": "@jupyter-widgets/base",
            "top": null,
            "grid_column": null,
            "overflow_y": null,
            "overflow_x": null,
            "grid_auto_flow": null,
            "grid_area": null,
            "grid_template_columns": null,
            "flex": null,
            "_model_name": "LayoutModel",
            "justify_items": null,
            "grid_row": null,
            "max_height": null,
            "align_content": null,
            "visibility": null,
            "align_self": null,
            "height": null,
            "min_height": null,
            "padding": null,
            "grid_auto_rows": null,
            "grid_gap": null,
            "max_width": null,
            "order": null,
            "_view_module_version": "1.2.0",
            "grid_template_areas": null,
            "object_position": null,
            "object_fit": null,
            "grid_auto_columns": null,
            "margin": null,
            "display": null,
            "left": null
          }
        },
        "db8ce173dbb74cf18e6bd29402c553ab": {
          "model_module": "@jupyter-widgets/controls",
          "model_name": "FloatProgressModel",
          "state": {
            "_view_name": "ProgressView",
            "style": "IPY_MODEL_a0ee0308822e48ca948dfc814207ebcc",
            "_dom_classes": [],
            "description": "Downloading: 100%",
            "_model_name": "FloatProgressModel",
            "bar_style": "success",
            "max": 1042301,
            "_view_module": "@jupyter-widgets/controls",
            "_model_module_version": "1.5.0",
            "value": 1042301,
            "_view_count": null,
            "_view_module_version": "1.5.0",
            "orientation": "horizontal",
            "min": 0,
            "description_tooltip": null,
            "_model_module": "@jupyter-widgets/controls",
            "layout": "IPY_MODEL_e753705b0648492083937842b1811f6c"
          }
        },
        "11aed7382963491b92d3fffebb8de49a": {
          "model_module": "@jupyter-widgets/controls",
          "model_name": "HTMLModel",
          "state": {
            "_view_name": "HTMLView",
            "style": "IPY_MODEL_eed27e95c5ba4cbca1ec9abca3b1f5d4",
            "_dom_classes": [],
            "description": "",
            "_model_name": "HTMLModel",
            "placeholder": "​",
            "_view_module": "@jupyter-widgets/controls",
            "_model_module_version": "1.5.0",
            "value": " 1.04M/1.04M [00:04&lt;00:00, 258kB/s]",
            "_view_count": null,
            "_view_module_version": "1.5.0",
            "description_tooltip": null,
            "_model_module": "@jupyter-widgets/controls",
            "layout": "IPY_MODEL_6c3fc449793d463e97f5e97ff522d37e"
          }
        },
        "a0ee0308822e48ca948dfc814207ebcc": {
          "model_module": "@jupyter-widgets/controls",
          "model_name": "ProgressStyleModel",
          "state": {
            "_view_name": "StyleView",
            "_model_name": "ProgressStyleModel",
            "description_width": "initial",
            "_view_module": "@jupyter-widgets/base",
            "_model_module_version": "1.5.0",
            "_view_count": null,
            "_view_module_version": "1.2.0",
            "bar_color": null,
            "_model_module": "@jupyter-widgets/controls"
          }
        },
        "e753705b0648492083937842b1811f6c": {
          "model_module": "@jupyter-widgets/base",
          "model_name": "LayoutModel",
          "state": {
            "_view_name": "LayoutView",
            "grid_template_rows": null,
            "right": null,
            "justify_content": null,
            "_view_module": "@jupyter-widgets/base",
            "overflow": null,
            "_model_module_version": "1.2.0",
            "_view_count": null,
            "flex_flow": null,
            "width": null,
            "min_width": null,
            "border": null,
            "align_items": null,
            "bottom": null,
            "_model_module": "@jupyter-widgets/base",
            "top": null,
            "grid_column": null,
            "overflow_y": null,
            "overflow_x": null,
            "grid_auto_flow": null,
            "grid_area": null,
            "grid_template_columns": null,
            "flex": null,
            "_model_name": "LayoutModel",
            "justify_items": null,
            "grid_row": null,
            "max_height": null,
            "align_content": null,
            "visibility": null,
            "align_self": null,
            "height": null,
            "min_height": null,
            "padding": null,
            "grid_auto_rows": null,
            "grid_gap": null,
            "max_width": null,
            "order": null,
            "_view_module_version": "1.2.0",
            "grid_template_areas": null,
            "object_position": null,
            "object_fit": null,
            "grid_auto_columns": null,
            "margin": null,
            "display": null,
            "left": null
          }
        },
        "eed27e95c5ba4cbca1ec9abca3b1f5d4": {
          "model_module": "@jupyter-widgets/controls",
          "model_name": "DescriptionStyleModel",
          "state": {
            "_view_name": "StyleView",
            "_model_name": "DescriptionStyleModel",
            "description_width": "",
            "_view_module": "@jupyter-widgets/base",
            "_model_module_version": "1.5.0",
            "_view_count": null,
            "_view_module_version": "1.2.0",
            "_model_module": "@jupyter-widgets/controls"
          }
        },
        "6c3fc449793d463e97f5e97ff522d37e": {
          "model_module": "@jupyter-widgets/base",
          "model_name": "LayoutModel",
          "state": {
            "_view_name": "LayoutView",
            "grid_template_rows": null,
            "right": null,
            "justify_content": null,
            "_view_module": "@jupyter-widgets/base",
            "overflow": null,
            "_model_module_version": "1.2.0",
            "_view_count": null,
            "flex_flow": null,
            "width": null,
            "min_width": null,
            "border": null,
            "align_items": null,
            "bottom": null,
            "_model_module": "@jupyter-widgets/base",
            "top": null,
            "grid_column": null,
            "overflow_y": null,
            "overflow_x": null,
            "grid_auto_flow": null,
            "grid_area": null,
            "grid_template_columns": null,
            "flex": null,
            "_model_name": "LayoutModel",
            "justify_items": null,
            "grid_row": null,
            "max_height": null,
            "align_content": null,
            "visibility": null,
            "align_self": null,
            "height": null,
            "min_height": null,
            "padding": null,
            "grid_auto_rows": null,
            "grid_gap": null,
            "max_width": null,
            "order": null,
            "_view_module_version": "1.2.0",
            "grid_template_areas": null,
            "object_position": null,
            "object_fit": null,
            "grid_auto_columns": null,
            "margin": null,
            "display": null,
            "left": null
          }
        },
        "6ff68b2dcf8341d395a052cb25909634": {
          "model_module": "@jupyter-widgets/controls",
          "model_name": "HBoxModel",
          "state": {
            "_view_name": "HBoxView",
            "_dom_classes": [],
            "_model_name": "HBoxModel",
            "_view_module": "@jupyter-widgets/controls",
            "_model_module_version": "1.5.0",
            "_view_count": null,
            "_view_module_version": "1.5.0",
            "box_style": "",
            "layout": "IPY_MODEL_bfd8a813ad84488fb0c05b2009b7a721",
            "_model_module": "@jupyter-widgets/controls",
            "children": [
              "IPY_MODEL_f3cb968446df4f8788fbd658766ec5ea",
              "IPY_MODEL_c8def0dc0d2f4269821fb4c274c55ffe"
            ]
          }
        },
        "bfd8a813ad84488fb0c05b2009b7a721": {
          "model_module": "@jupyter-widgets/base",
          "model_name": "LayoutModel",
          "state": {
            "_view_name": "LayoutView",
            "grid_template_rows": null,
            "right": null,
            "justify_content": null,
            "_view_module": "@jupyter-widgets/base",
            "overflow": null,
            "_model_module_version": "1.2.0",
            "_view_count": null,
            "flex_flow": null,
            "width": null,
            "min_width": null,
            "border": null,
            "align_items": null,
            "bottom": null,
            "_model_module": "@jupyter-widgets/base",
            "top": null,
            "grid_column": null,
            "overflow_y": null,
            "overflow_x": null,
            "grid_auto_flow": null,
            "grid_area": null,
            "grid_template_columns": null,
            "flex": null,
            "_model_name": "LayoutModel",
            "justify_items": null,
            "grid_row": null,
            "max_height": null,
            "align_content": null,
            "visibility": null,
            "align_self": null,
            "height": null,
            "min_height": null,
            "padding": null,
            "grid_auto_rows": null,
            "grid_gap": null,
            "max_width": null,
            "order": null,
            "_view_module_version": "1.2.0",
            "grid_template_areas": null,
            "object_position": null,
            "object_fit": null,
            "grid_auto_columns": null,
            "margin": null,
            "display": null,
            "left": null
          }
        },
        "f3cb968446df4f8788fbd658766ec5ea": {
          "model_module": "@jupyter-widgets/controls",
          "model_name": "FloatProgressModel",
          "state": {
            "_view_name": "ProgressView",
            "style": "IPY_MODEL_e66fedde77f6439e9c990df5b8701f1f",
            "_dom_classes": [],
            "description": "Downloading: 100%",
            "_model_name": "FloatProgressModel",
            "bar_style": "success",
            "max": 456318,
            "_view_module": "@jupyter-widgets/controls",
            "_model_module_version": "1.5.0",
            "value": 456318,
            "_view_count": null,
            "_view_module_version": "1.5.0",
            "orientation": "horizontal",
            "min": 0,
            "description_tooltip": null,
            "_model_module": "@jupyter-widgets/controls",
            "layout": "IPY_MODEL_b3017b2c374a4d96b5a111c9017e6a78"
          }
        },
        "c8def0dc0d2f4269821fb4c274c55ffe": {
          "model_module": "@jupyter-widgets/controls",
          "model_name": "HTMLModel",
          "state": {
            "_view_name": "HTMLView",
            "style": "IPY_MODEL_e289f98085584ce3999d743c8d0e949c",
            "_dom_classes": [],
            "description": "",
            "_model_name": "HTMLModel",
            "placeholder": "​",
            "_view_module": "@jupyter-widgets/controls",
            "_model_module_version": "1.5.0",
            "value": " 456k/456k [00:02&lt;00:00, 219kB/s]",
            "_view_count": null,
            "_view_module_version": "1.5.0",
            "description_tooltip": null,
            "_model_module": "@jupyter-widgets/controls",
            "layout": "IPY_MODEL_2ea7a156e0d04e2987a6fb788d5ee16a"
          }
        },
        "e66fedde77f6439e9c990df5b8701f1f": {
          "model_module": "@jupyter-widgets/controls",
          "model_name": "ProgressStyleModel",
          "state": {
            "_view_name": "StyleView",
            "_model_name": "ProgressStyleModel",
            "description_width": "initial",
            "_view_module": "@jupyter-widgets/base",
            "_model_module_version": "1.5.0",
            "_view_count": null,
            "_view_module_version": "1.2.0",
            "bar_color": null,
            "_model_module": "@jupyter-widgets/controls"
          }
        },
        "b3017b2c374a4d96b5a111c9017e6a78": {
          "model_module": "@jupyter-widgets/base",
          "model_name": "LayoutModel",
          "state": {
            "_view_name": "LayoutView",
            "grid_template_rows": null,
            "right": null,
            "justify_content": null,
            "_view_module": "@jupyter-widgets/base",
            "overflow": null,
            "_model_module_version": "1.2.0",
            "_view_count": null,
            "flex_flow": null,
            "width": null,
            "min_width": null,
            "border": null,
            "align_items": null,
            "bottom": null,
            "_model_module": "@jupyter-widgets/base",
            "top": null,
            "grid_column": null,
            "overflow_y": null,
            "overflow_x": null,
            "grid_auto_flow": null,
            "grid_area": null,
            "grid_template_columns": null,
            "flex": null,
            "_model_name": "LayoutModel",
            "justify_items": null,
            "grid_row": null,
            "max_height": null,
            "align_content": null,
            "visibility": null,
            "align_self": null,
            "height": null,
            "min_height": null,
            "padding": null,
            "grid_auto_rows": null,
            "grid_gap": null,
            "max_width": null,
            "order": null,
            "_view_module_version": "1.2.0",
            "grid_template_areas": null,
            "object_position": null,
            "object_fit": null,
            "grid_auto_columns": null,
            "margin": null,
            "display": null,
            "left": null
          }
        },
        "e289f98085584ce3999d743c8d0e949c": {
          "model_module": "@jupyter-widgets/controls",
          "model_name": "DescriptionStyleModel",
          "state": {
            "_view_name": "StyleView",
            "_model_name": "DescriptionStyleModel",
            "description_width": "",
            "_view_module": "@jupyter-widgets/base",
            "_model_module_version": "1.5.0",
            "_view_count": null,
            "_view_module_version": "1.2.0",
            "_model_module": "@jupyter-widgets/controls"
          }
        },
        "2ea7a156e0d04e2987a6fb788d5ee16a": {
          "model_module": "@jupyter-widgets/base",
          "model_name": "LayoutModel",
          "state": {
            "_view_name": "LayoutView",
            "grid_template_rows": null,
            "right": null,
            "justify_content": null,
            "_view_module": "@jupyter-widgets/base",
            "overflow": null,
            "_model_module_version": "1.2.0",
            "_view_count": null,
            "flex_flow": null,
            "width": null,
            "min_width": null,
            "border": null,
            "align_items": null,
            "bottom": null,
            "_model_module": "@jupyter-widgets/base",
            "top": null,
            "grid_column": null,
            "overflow_y": null,
            "overflow_x": null,
            "grid_auto_flow": null,
            "grid_area": null,
            "grid_template_columns": null,
            "flex": null,
            "_model_name": "LayoutModel",
            "justify_items": null,
            "grid_row": null,
            "max_height": null,
            "align_content": null,
            "visibility": null,
            "align_self": null,
            "height": null,
            "min_height": null,
            "padding": null,
            "grid_auto_rows": null,
            "grid_gap": null,
            "max_width": null,
            "order": null,
            "_view_module_version": "1.2.0",
            "grid_template_areas": null,
            "object_position": null,
            "object_fit": null,
            "grid_auto_columns": null,
            "margin": null,
            "display": null,
            "left": null
          }
        },
        "aca73780401b42d895cefeef1e146849": {
          "model_module": "@jupyter-widgets/controls",
          "model_name": "HBoxModel",
          "state": {
            "_view_name": "HBoxView",
            "_dom_classes": [],
            "_model_name": "HBoxModel",
            "_view_module": "@jupyter-widgets/controls",
            "_model_module_version": "1.5.0",
            "_view_count": null,
            "_view_module_version": "1.5.0",
            "box_style": "",
            "layout": "IPY_MODEL_c72c04a3e1cb4aec80cf3e6efd79905d",
            "_model_module": "@jupyter-widgets/controls",
            "children": [
              "IPY_MODEL_4eff579a26da43859fbfd18f237be1ac",
              "IPY_MODEL_1404493a4b264ea2b8db1ae7334997dc"
            ]
          }
        },
        "c72c04a3e1cb4aec80cf3e6efd79905d": {
          "model_module": "@jupyter-widgets/base",
          "model_name": "LayoutModel",
          "state": {
            "_view_name": "LayoutView",
            "grid_template_rows": null,
            "right": null,
            "justify_content": null,
            "_view_module": "@jupyter-widgets/base",
            "overflow": null,
            "_model_module_version": "1.2.0",
            "_view_count": null,
            "flex_flow": null,
            "width": null,
            "min_width": null,
            "border": null,
            "align_items": null,
            "bottom": null,
            "_model_module": "@jupyter-widgets/base",
            "top": null,
            "grid_column": null,
            "overflow_y": null,
            "overflow_x": null,
            "grid_auto_flow": null,
            "grid_area": null,
            "grid_template_columns": null,
            "flex": null,
            "_model_name": "LayoutModel",
            "justify_items": null,
            "grid_row": null,
            "max_height": null,
            "align_content": null,
            "visibility": null,
            "align_self": null,
            "height": null,
            "min_height": null,
            "padding": null,
            "grid_auto_rows": null,
            "grid_gap": null,
            "max_width": null,
            "order": null,
            "_view_module_version": "1.2.0",
            "grid_template_areas": null,
            "object_position": null,
            "object_fit": null,
            "grid_auto_columns": null,
            "margin": null,
            "display": null,
            "left": null
          }
        },
        "4eff579a26da43859fbfd18f237be1ac": {
          "model_module": "@jupyter-widgets/controls",
          "model_name": "FloatProgressModel",
          "state": {
            "_view_name": "ProgressView",
            "style": "IPY_MODEL_aea2561dfd304923a57445dd101805ba",
            "_dom_classes": [],
            "description": "Downloading: 100%",
            "_model_name": "FloatProgressModel",
            "bar_style": "success",
            "max": 1355256,
            "_view_module": "@jupyter-widgets/controls",
            "_model_module_version": "1.5.0",
            "value": 1355256,
            "_view_count": null,
            "_view_module_version": "1.5.0",
            "orientation": "horizontal",
            "min": 0,
            "description_tooltip": null,
            "_model_module": "@jupyter-widgets/controls",
            "layout": "IPY_MODEL_c769beb0c161463b9a30a84b918d10a7"
          }
        },
        "1404493a4b264ea2b8db1ae7334997dc": {
          "model_module": "@jupyter-widgets/controls",
          "model_name": "HTMLModel",
          "state": {
            "_view_name": "HTMLView",
            "style": "IPY_MODEL_4e19bd66fcfe4668a818ad5e473fd303",
            "_dom_classes": [],
            "description": "",
            "_model_name": "HTMLModel",
            "placeholder": "​",
            "_view_module": "@jupyter-widgets/controls",
            "_model_module_version": "1.5.0",
            "value": " 1.36M/1.36M [00:33&lt;00:00, 40.6kB/s]",
            "_view_count": null,
            "_view_module_version": "1.5.0",
            "description_tooltip": null,
            "_model_module": "@jupyter-widgets/controls",
            "layout": "IPY_MODEL_3c6fb4ba8ec546d39623a7e5ef09f817"
          }
        },
        "aea2561dfd304923a57445dd101805ba": {
          "model_module": "@jupyter-widgets/controls",
          "model_name": "ProgressStyleModel",
          "state": {
            "_view_name": "StyleView",
            "_model_name": "ProgressStyleModel",
            "description_width": "initial",
            "_view_module": "@jupyter-widgets/base",
            "_model_module_version": "1.5.0",
            "_view_count": null,
            "_view_module_version": "1.2.0",
            "bar_color": null,
            "_model_module": "@jupyter-widgets/controls"
          }
        },
        "c769beb0c161463b9a30a84b918d10a7": {
          "model_module": "@jupyter-widgets/base",
          "model_name": "LayoutModel",
          "state": {
            "_view_name": "LayoutView",
            "grid_template_rows": null,
            "right": null,
            "justify_content": null,
            "_view_module": "@jupyter-widgets/base",
            "overflow": null,
            "_model_module_version": "1.2.0",
            "_view_count": null,
            "flex_flow": null,
            "width": null,
            "min_width": null,
            "border": null,
            "align_items": null,
            "bottom": null,
            "_model_module": "@jupyter-widgets/base",
            "top": null,
            "grid_column": null,
            "overflow_y": null,
            "overflow_x": null,
            "grid_auto_flow": null,
            "grid_area": null,
            "grid_template_columns": null,
            "flex": null,
            "_model_name": "LayoutModel",
            "justify_items": null,
            "grid_row": null,
            "max_height": null,
            "align_content": null,
            "visibility": null,
            "align_self": null,
            "height": null,
            "min_height": null,
            "padding": null,
            "grid_auto_rows": null,
            "grid_gap": null,
            "max_width": null,
            "order": null,
            "_view_module_version": "1.2.0",
            "grid_template_areas": null,
            "object_position": null,
            "object_fit": null,
            "grid_auto_columns": null,
            "margin": null,
            "display": null,
            "left": null
          }
        },
        "4e19bd66fcfe4668a818ad5e473fd303": {
          "model_module": "@jupyter-widgets/controls",
          "model_name": "DescriptionStyleModel",
          "state": {
            "_view_name": "StyleView",
            "_model_name": "DescriptionStyleModel",
            "description_width": "",
            "_view_module": "@jupyter-widgets/base",
            "_model_module_version": "1.5.0",
            "_view_count": null,
            "_view_module_version": "1.2.0",
            "_model_module": "@jupyter-widgets/controls"
          }
        },
        "3c6fb4ba8ec546d39623a7e5ef09f817": {
          "model_module": "@jupyter-widgets/base",
          "model_name": "LayoutModel",
          "state": {
            "_view_name": "LayoutView",
            "grid_template_rows": null,
            "right": null,
            "justify_content": null,
            "_view_module": "@jupyter-widgets/base",
            "overflow": null,
            "_model_module_version": "1.2.0",
            "_view_count": null,
            "flex_flow": null,
            "width": null,
            "min_width": null,
            "border": null,
            "align_items": null,
            "bottom": null,
            "_model_module": "@jupyter-widgets/base",
            "top": null,
            "grid_column": null,
            "overflow_y": null,
            "overflow_x": null,
            "grid_auto_flow": null,
            "grid_area": null,
            "grid_template_columns": null,
            "flex": null,
            "_model_name": "LayoutModel",
            "justify_items": null,
            "grid_row": null,
            "max_height": null,
            "align_content": null,
            "visibility": null,
            "align_self": null,
            "height": null,
            "min_height": null,
            "padding": null,
            "grid_auto_rows": null,
            "grid_gap": null,
            "max_width": null,
            "order": null,
            "_view_module_version": "1.2.0",
            "grid_template_areas": null,
            "object_position": null,
            "object_fit": null,
            "grid_auto_columns": null,
            "margin": null,
            "display": null,
            "left": null
          }
        },
        "9248c7ea536c49ae819106ef8a2720c2": {
          "model_module": "@jupyter-widgets/controls",
          "model_name": "HBoxModel",
          "state": {
            "_view_name": "HBoxView",
            "_dom_classes": [],
            "_model_name": "HBoxModel",
            "_view_module": "@jupyter-widgets/controls",
            "_model_module_version": "1.5.0",
            "_view_count": null,
            "_view_module_version": "1.5.0",
            "box_style": "",
            "layout": "IPY_MODEL_a97bdbb96e5d432fbbad230b8f209cb8",
            "_model_module": "@jupyter-widgets/controls",
            "children": [
              "IPY_MODEL_f8ba5516192e4d77a12251afeca41692",
              "IPY_MODEL_b8df468726ed4a08a16a3c46283c01d5"
            ]
          }
        },
        "a97bdbb96e5d432fbbad230b8f209cb8": {
          "model_module": "@jupyter-widgets/base",
          "model_name": "LayoutModel",
          "state": {
            "_view_name": "LayoutView",
            "grid_template_rows": null,
            "right": null,
            "justify_content": null,
            "_view_module": "@jupyter-widgets/base",
            "overflow": null,
            "_model_module_version": "1.2.0",
            "_view_count": null,
            "flex_flow": null,
            "width": null,
            "min_width": null,
            "border": null,
            "align_items": null,
            "bottom": null,
            "_model_module": "@jupyter-widgets/base",
            "top": null,
            "grid_column": null,
            "overflow_y": null,
            "overflow_x": null,
            "grid_auto_flow": null,
            "grid_area": null,
            "grid_template_columns": null,
            "flex": null,
            "_model_name": "LayoutModel",
            "justify_items": null,
            "grid_row": null,
            "max_height": null,
            "align_content": null,
            "visibility": null,
            "align_self": null,
            "height": null,
            "min_height": null,
            "padding": null,
            "grid_auto_rows": null,
            "grid_gap": null,
            "max_width": null,
            "order": null,
            "_view_module_version": "1.2.0",
            "grid_template_areas": null,
            "object_position": null,
            "object_fit": null,
            "grid_auto_columns": null,
            "margin": null,
            "display": null,
            "left": null
          }
        },
        "f8ba5516192e4d77a12251afeca41692": {
          "model_module": "@jupyter-widgets/controls",
          "model_name": "FloatProgressModel",
          "state": {
            "_view_name": "ProgressView",
            "style": "IPY_MODEL_73e389ecd4464af6a3b77537c21c9466",
            "_dom_classes": [],
            "description": "Downloading: 100%",
            "_model_name": "FloatProgressModel",
            "bar_style": "success",
            "max": 352833716,
            "_view_module": "@jupyter-widgets/controls",
            "_model_module_version": "1.5.0",
            "value": 352833716,
            "_view_count": null,
            "_view_module_version": "1.5.0",
            "orientation": "horizontal",
            "min": 0,
            "description_tooltip": null,
            "_model_module": "@jupyter-widgets/controls",
            "layout": "IPY_MODEL_bfad39fe00d9485b86ef312d9344526b"
          }
        },
        "b8df468726ed4a08a16a3c46283c01d5": {
          "model_module": "@jupyter-widgets/controls",
          "model_name": "HTMLModel",
          "state": {
            "_view_name": "HTMLView",
            "style": "IPY_MODEL_799f408535c44f39be53e01ca12e3897",
            "_dom_classes": [],
            "description": "",
            "_model_name": "HTMLModel",
            "placeholder": "​",
            "_view_module": "@jupyter-widgets/controls",
            "_model_module_version": "1.5.0",
            "value": " 353M/353M [00:10&lt;00:00, 32.3MB/s]",
            "_view_count": null,
            "_view_module_version": "1.5.0",
            "description_tooltip": null,
            "_model_module": "@jupyter-widgets/controls",
            "layout": "IPY_MODEL_97b2bbd4227849a696efe54dc21ac1be"
          }
        },
        "73e389ecd4464af6a3b77537c21c9466": {
          "model_module": "@jupyter-widgets/controls",
          "model_name": "ProgressStyleModel",
          "state": {
            "_view_name": "StyleView",
            "_model_name": "ProgressStyleModel",
            "description_width": "initial",
            "_view_module": "@jupyter-widgets/base",
            "_model_module_version": "1.5.0",
            "_view_count": null,
            "_view_module_version": "1.2.0",
            "bar_color": null,
            "_model_module": "@jupyter-widgets/controls"
          }
        },
        "bfad39fe00d9485b86ef312d9344526b": {
          "model_module": "@jupyter-widgets/base",
          "model_name": "LayoutModel",
          "state": {
            "_view_name": "LayoutView",
            "grid_template_rows": null,
            "right": null,
            "justify_content": null,
            "_view_module": "@jupyter-widgets/base",
            "overflow": null,
            "_model_module_version": "1.2.0",
            "_view_count": null,
            "flex_flow": null,
            "width": null,
            "min_width": null,
            "border": null,
            "align_items": null,
            "bottom": null,
            "_model_module": "@jupyter-widgets/base",
            "top": null,
            "grid_column": null,
            "overflow_y": null,
            "overflow_x": null,
            "grid_auto_flow": null,
            "grid_area": null,
            "grid_template_columns": null,
            "flex": null,
            "_model_name": "LayoutModel",
            "justify_items": null,
            "grid_row": null,
            "max_height": null,
            "align_content": null,
            "visibility": null,
            "align_self": null,
            "height": null,
            "min_height": null,
            "padding": null,
            "grid_auto_rows": null,
            "grid_gap": null,
            "max_width": null,
            "order": null,
            "_view_module_version": "1.2.0",
            "grid_template_areas": null,
            "object_position": null,
            "object_fit": null,
            "grid_auto_columns": null,
            "margin": null,
            "display": null,
            "left": null
          }
        },
        "799f408535c44f39be53e01ca12e3897": {
          "model_module": "@jupyter-widgets/controls",
          "model_name": "DescriptionStyleModel",
          "state": {
            "_view_name": "StyleView",
            "_model_name": "DescriptionStyleModel",
            "description_width": "",
            "_view_module": "@jupyter-widgets/base",
            "_model_module_version": "1.5.0",
            "_view_count": null,
            "_view_module_version": "1.2.0",
            "_model_module": "@jupyter-widgets/controls"
          }
        },
        "97b2bbd4227849a696efe54dc21ac1be": {
          "model_module": "@jupyter-widgets/base",
          "model_name": "LayoutModel",
          "state": {
            "_view_name": "LayoutView",
            "grid_template_rows": null,
            "right": null,
            "justify_content": null,
            "_view_module": "@jupyter-widgets/base",
            "overflow": null,
            "_model_module_version": "1.2.0",
            "_view_count": null,
            "flex_flow": null,
            "width": null,
            "min_width": null,
            "border": null,
            "align_items": null,
            "bottom": null,
            "_model_module": "@jupyter-widgets/base",
            "top": null,
            "grid_column": null,
            "overflow_y": null,
            "overflow_x": null,
            "grid_auto_flow": null,
            "grid_area": null,
            "grid_template_columns": null,
            "flex": null,
            "_model_name": "LayoutModel",
            "justify_items": null,
            "grid_row": null,
            "max_height": null,
            "align_content": null,
            "visibility": null,
            "align_self": null,
            "height": null,
            "min_height": null,
            "padding": null,
            "grid_auto_rows": null,
            "grid_gap": null,
            "max_width": null,
            "order": null,
            "_view_module_version": "1.2.0",
            "grid_template_areas": null,
            "object_position": null,
            "object_fit": null,
            "grid_auto_columns": null,
            "margin": null,
            "display": null,
            "left": null
          }
        }
      }
    }
  },
  "cells": [
    {
      "cell_type": "markdown",
      "metadata": {
        "Collapsed": "false",
        "id": "b81DmIYiu_T4"
      },
      "source": [
        "# Using Natural Language Processing to Generate New Recipes in Python\n",
        " Here, I'll be finetuning a distilled version of GPT-2 on a smaller-scale dataset comprising recipes. The recipes are split into ingredients and instructions. Can we use GPT-2 to generate instructions from a list of ingredients?\n",
        "\n",
        "***Objectives:***\n",
        "1. How to preprocess and prepare a text dataset comprising recipes.\n",
        "2. How to launch a training script to finetune a HuggingFace model.\n",
        "3. How to effectively create a generative model capable of producing realistic recipes when given a list of ingredients.\n",
        "\n",
        "***Takeaways:***\n",
        " - Take raw recipe data, prepare it, load and finetune a distilled verison of GPT-2, and generate realistic, accurate recipes when prompting your model with ingredient lists."
      ]
    },
    {
      "cell_type": "markdown",
      "metadata": {
        "id": "bMSgPt8Nu_T5"
      },
      "source": [
        "## 1. Introduction\n",
        "[This is the dataset](https://eightportions.com/datasets/Recipes/#fn:1) we will be using. It is collated by Ryan Lee, sourced from [Food Network](https://www.foodnetwork.com/), [Epicurious](https://www.epicurious.com/), and [Allrecipes](https://www.allrecipes.com/).\n",
        "\n",
        "### Sample\n",
        "*Herb Rubbed Sirloin Tip Roast*\n",
        "\n",
        "- 1 1/4 tablespoons paprika\n",
        "- 1 tablespoon kosher salt\n",
        "- 1 teaspoon garlic powder\n",
        "- 1/2 teaspoon ground black pepper\n",
        "- 1/2 teaspoon onion powder\n",
        "- 1/2 teaspoon ground cayenne pepper\n",
        "- 1/2 teaspoon dried oregano\n",
        "- 1/2 teaspoon dried thyme\n",
        "- 2 tablespoons olive oil\n",
        "- 1 (3 pound) sirloin tip roast\n",
        "\n",
        "In a small bowl, mix the paprika, kosher salt, garlic powder, black pepper, onion powder, cayenne pepper, oregano, and thyme. Stir in the olive oil, and allow the mixture to sit about 15 minutes.\n",
        "\n",
        "Preheat oven to 350 degrees F (175 degrees C). Line a baking sheet with aluminum foil.\n",
        "\n",
        "Place the roast on the prepared baking sheet, and cover on all sides with the spice mixture.\n",
        "\n",
        "Roast 1 hour in the preheated oven, or to a minimum internal temperature of 145 degrees F (63 degrees C). Let sit 15 minutes before slicing."
      ]
    },
    {
      "cell_type": "code",
      "metadata": {
        "Collapsed": "false",
        "colab": {
          "base_uri": "https://localhost:8080/"
        },
        "id": "iMrUv_Mku_T6",
        "outputId": "56ec10e2-a700-4b50-e1c5-89ccaaca9cfa"
      },
      "source": [
        "!git clone https://github.com/huggingface/transformers;\n",
        "!cd transformers; pip3 install ."
      ],
      "execution_count": 1,
      "outputs": [
        {
          "output_type": "stream",
          "text": [
            "Cloning into 'transformers'...\n",
            "remote: Enumerating objects: 79300, done.\u001b[K\n",
            "remote: Counting objects: 100% (154/154), done.\u001b[K\n",
            "remote: Compressing objects: 100% (122/122), done.\u001b[K\n",
            "remote: Total 79300 (delta 57), reused 61 (delta 18), pack-reused 79146\u001b[K\n",
            "Receiving objects: 100% (79300/79300), 62.33 MiB | 20.81 MiB/s, done.\n",
            "Resolving deltas: 100% (56677/56677), done.\n",
            "Processing /content/transformers\n",
            "\u001b[33m  DEPRECATION: A future pip version will change local packages to be built in-place without first copying to a temporary directory. We recommend you use --use-feature=in-tree-build to test your packages with this new behavior before it becomes the default.\n",
            "   pip 21.3 will remove support for this functionality. You can find discussion regarding this at https://github.com/pypa/pip/issues/7555.\u001b[0m\n",
            "  Installing build dependencies ... \u001b[?25l\u001b[?25hdone\n",
            "  Getting requirements to build wheel ... \u001b[?25l\u001b[?25hdone\n",
            "    Preparing wheel metadata ... \u001b[?25l\u001b[?25hdone\n",
            "Collecting huggingface-hub==0.0.12\n",
            "  Downloading huggingface_hub-0.0.12-py3-none-any.whl (37 kB)\n",
            "Collecting sacremoses\n",
            "  Downloading sacremoses-0.0.45-py3-none-any.whl (895 kB)\n",
            "\u001b[K     |████████████████████████████████| 895 kB 7.0 MB/s \n",
            "\u001b[?25hRequirement already satisfied: tqdm>=4.27 in /usr/local/lib/python3.7/dist-packages (from transformers==4.10.0.dev0) (4.41.1)\n",
            "Collecting pyyaml>=5.1\n",
            "  Downloading PyYAML-5.4.1-cp37-cp37m-manylinux1_x86_64.whl (636 kB)\n",
            "\u001b[K     |████████████████████████████████| 636 kB 41.4 MB/s \n",
            "\u001b[?25hRequirement already satisfied: numpy>=1.17 in /usr/local/lib/python3.7/dist-packages (from transformers==4.10.0.dev0) (1.19.5)\n",
            "Requirement already satisfied: filelock in /usr/local/lib/python3.7/dist-packages (from transformers==4.10.0.dev0) (3.0.12)\n",
            "Collecting tokenizers<0.11,>=0.10.1\n",
            "  Downloading tokenizers-0.10.3-cp37-cp37m-manylinux_2_5_x86_64.manylinux1_x86_64.manylinux_2_12_x86_64.manylinux2010_x86_64.whl (3.3 MB)\n",
            "\u001b[K     |████████████████████████████████| 3.3 MB 45.9 MB/s \n",
            "\u001b[?25hRequirement already satisfied: importlib-metadata in /usr/local/lib/python3.7/dist-packages (from transformers==4.10.0.dev0) (4.6.1)\n",
            "Requirement already satisfied: requests in /usr/local/lib/python3.7/dist-packages (from transformers==4.10.0.dev0) (2.23.0)\n",
            "Requirement already satisfied: packaging in /usr/local/lib/python3.7/dist-packages (from transformers==4.10.0.dev0) (21.0)\n",
            "Requirement already satisfied: regex!=2019.12.17 in /usr/local/lib/python3.7/dist-packages (from transformers==4.10.0.dev0) (2019.12.20)\n",
            "Requirement already satisfied: typing-extensions in /usr/local/lib/python3.7/dist-packages (from huggingface-hub==0.0.12->transformers==4.10.0.dev0) (3.7.4.3)\n",
            "Requirement already satisfied: pyparsing>=2.0.2 in /usr/local/lib/python3.7/dist-packages (from packaging->transformers==4.10.0.dev0) (2.4.7)\n",
            "Requirement already satisfied: zipp>=0.5 in /usr/local/lib/python3.7/dist-packages (from importlib-metadata->transformers==4.10.0.dev0) (3.5.0)\n",
            "Requirement already satisfied: certifi>=2017.4.17 in /usr/local/lib/python3.7/dist-packages (from requests->transformers==4.10.0.dev0) (2021.5.30)\n",
            "Requirement already satisfied: chardet<4,>=3.0.2 in /usr/local/lib/python3.7/dist-packages (from requests->transformers==4.10.0.dev0) (3.0.4)\n",
            "Requirement already satisfied: urllib3!=1.25.0,!=1.25.1,<1.26,>=1.21.1 in /usr/local/lib/python3.7/dist-packages (from requests->transformers==4.10.0.dev0) (1.24.3)\n",
            "Requirement already satisfied: idna<3,>=2.5 in /usr/local/lib/python3.7/dist-packages (from requests->transformers==4.10.0.dev0) (2.10)\n",
            "Requirement already satisfied: six in /usr/local/lib/python3.7/dist-packages (from sacremoses->transformers==4.10.0.dev0) (1.15.0)\n",
            "Requirement already satisfied: click in /usr/local/lib/python3.7/dist-packages (from sacremoses->transformers==4.10.0.dev0) (7.1.2)\n",
            "Requirement already satisfied: joblib in /usr/local/lib/python3.7/dist-packages (from sacremoses->transformers==4.10.0.dev0) (1.0.1)\n",
            "Building wheels for collected packages: transformers\n",
            "  Building wheel for transformers (PEP 517) ... \u001b[?25l\u001b[?25hdone\n",
            "  Created wheel for transformers: filename=transformers-4.10.0.dev0-py3-none-any.whl size=2626857 sha256=59459f13374a6b300aca148b9aa6877ad668249e5f55cbdf34b8c673c82fb61d\n",
            "  Stored in directory: /tmp/pip-ephem-wheel-cache-mae0d0m5/wheels/49/62/f4/6730819eed4e6468662b1519bf3bf46419b2335990c77f8767\n",
            "Successfully built transformers\n",
            "Installing collected packages: tokenizers, sacremoses, pyyaml, huggingface-hub, transformers\n",
            "  Attempting uninstall: pyyaml\n",
            "    Found existing installation: PyYAML 3.13\n",
            "    Uninstalling PyYAML-3.13:\n",
            "      Successfully uninstalled PyYAML-3.13\n",
            "Successfully installed huggingface-hub-0.0.12 pyyaml-5.4.1 sacremoses-0.0.45 tokenizers-0.10.3 transformers-4.10.0.dev0\n"
          ],
          "name": "stdout"
        }
      ]
    },
    {
      "cell_type": "code",
      "metadata": {
        "colab": {
          "base_uri": "https://localhost:8080/"
        },
        "id": "qhQelzFL3oDg",
        "outputId": "bf6e6d4c-7046-4059-ec9d-1e6144b2822a"
      },
      "source": [
        "from google.colab import drive\n",
        "drive.mount('/content/drive/')"
      ],
      "execution_count": 2,
      "outputs": [
        {
          "output_type": "stream",
          "text": [
            "Mounted at /content/drive/\n"
          ],
          "name": "stdout"
        }
      ]
    },
    {
      "cell_type": "code",
      "metadata": {
        "colab": {
          "base_uri": "https://localhost:8080/"
        },
        "id": "_sBdPiyH4H6H",
        "outputId": "7274d18b-17a7-4179-f257-b774e7c8c9da"
      },
      "source": [
        "!unzip \"/content/drive/MyDrive/ProjectDatasets/NLPGPT2.zip\""
      ],
      "execution_count": 3,
      "outputs": [
        {
          "output_type": "stream",
          "text": [
            "Archive:  /content/drive/MyDrive/ProjectDatasets/NLPGPT2.zip\n",
            "   creating: Dataset/\n",
            "  inflating: Dataset/LICENSE         \n",
            "  inflating: Dataset/recipes_raw_nosource_ar.json  \n",
            "  inflating: Dataset/recipes_raw_nosource_epi.json  \n",
            "  inflating: Dataset/recipes_raw_nosource_fn.json  \n",
            "   creating: TrainedModels/\n",
            "   creating: TrainedModels/Model_10_epochs/\n",
            "  inflating: TrainedModels/Model_10_epochs/config.json  \n",
            "  inflating: TrainedModels/Model_10_epochs/merges.txt  \n",
            "  inflating: TrainedModels/Model_10_epochs/pytorch_model.bin  \n",
            "  inflating: TrainedModels/Model_10_epochs/special_tokens_map.json  \n",
            "  inflating: TrainedModels/Model_10_epochs/tokenizer_config.json  \n",
            "  inflating: TrainedModels/Model_10_epochs/training_args.bin  \n",
            "  inflating: TrainedModels/Model_10_epochs/vocab.json  \n",
            "   creating: TrainedModels/Model_20k_steps/\n",
            "  inflating: TrainedModels/Model_20k_steps/config.json  \n",
            "  inflating: TrainedModels/Model_20k_steps/merges.txt  \n",
            "  inflating: TrainedModels/Model_20k_steps/pytorch_model.bin  \n",
            "  inflating: TrainedModels/Model_20k_steps/special_tokens_map.json  \n",
            "  inflating: TrainedModels/Model_20k_steps/tokenizer_config.json  \n",
            "  inflating: TrainedModels/Model_20k_steps/training_args.bin  \n",
            "  inflating: TrainedModels/Model_20k_steps/vocab.json  \n"
          ],
          "name": "stdout"
        }
      ]
    },
    {
      "cell_type": "code",
      "metadata": {
        "colab": {
          "base_uri": "https://localhost:8080/"
        },
        "id": "R0-qxyt0wQ9j",
        "outputId": "8dd99e50-a5a4-49cf-ee32-1b0050a2dab3"
      },
      "source": [
        "from model_demo import demo\n",
        "\n",
        "demo('Ingredients: 1 cup flour \\n 1 cup sugar \\n cocoa \\n beer \\n Instructions:')\n",
        "#Will not give the same generated output"
      ],
      "execution_count": 5,
      "outputs": [
        {
          "output_type": "stream",
          "text": [
            "Setting `pad_token_id` to `eos_token_id`:50256 for open-end generation.\n"
          ],
          "name": "stderr"
        },
        {
          "output_type": "stream",
          "text": [
            "------------------\n",
            "Generated Output\n",
            "------------------\n",
            "Ingredients: 1 cup flour \n",
            " 1 cup sugar \n",
            " cocoa \n",
            " beer \n",
            " Instructions: \n",
            " In a large mixing bowl combine flour, sugar, cocoa, and beer. Add beer mixture and mix on low speed until well blended. Transfer to a lightly greased and floured surface and roll into a rectangle. Place dough onto a lightly greased cookie sheet and flatten to form a rectangle. Freeze for at least 1 hour. This makes rolling easier. Preheat oven to 350 degrees F. Bake for 10 minutes or until a toothpick comes out clean. \n"
          ],
          "name": "stdout"
        }
      ]
    },
    {
      "cell_type": "markdown",
      "metadata": {
        "Collapsed": "false",
        "id": "Ttds5pVQu_T6"
      },
      "source": [
        "## 2. EDA and Preprocessing"
      ]
    },
    {
      "cell_type": "code",
      "metadata": {
        "id": "LTQaCi4Vu_T7"
      },
      "source": [
        "import matplotlib\n",
        "%matplotlib inline\n",
        "matplotlib.rcParams['figure.dpi'] = 200\n",
        "import matplotlib.pyplot as plt\n",
        "plt.style.use('ggplot')\n",
        "\n",
        "import seaborn as sns\n",
        "import pandas as pd\n",
        "import json"
      ],
      "execution_count": 6,
      "outputs": []
    },
    {
      "cell_type": "code",
      "metadata": {
        "id": "A2Z49VQvHMc4"
      },
      "source": [
        "data = json.load(open('Dataset/recipes_raw_nosource_ar.json','r'))"
      ],
      "execution_count": 7,
      "outputs": []
    },
    {
      "cell_type": "code",
      "metadata": {
        "colab": {
          "base_uri": "https://localhost:8080/"
        },
        "id": "o3XSG3jtIHz4",
        "outputId": "42f780f6-b6a0-4ca3-f575-bcefb1c0aa97"
      },
      "source": [
        "keys = list(data.keys())\n",
        "data[keys[0]]"
      ],
      "execution_count": 8,
      "outputs": [
        {
          "output_type": "execute_result",
          "data": {
            "text/plain": [
              "{'ingredients': ['4 skinless, boneless chicken breast halves ADVERTISEMENT',\n",
              "  '2 tablespoons butter ADVERTISEMENT',\n",
              "  '2 (10.75 ounce) cans condensed cream of chicken soup ADVERTISEMENT',\n",
              "  '1 onion, finely diced ADVERTISEMENT',\n",
              "  '2 (10 ounce) packages refrigerated biscuit dough, torn into pieces ADVERTISEMENT',\n",
              "  'ADVERTISEMENT'],\n",
              " 'instructions': 'Place the chicken, butter, soup, and onion in a slow cooker, and fill with enough water to cover.\\nCover, and cook for 5 to 6 hours on High. About 30 minutes before serving, place the torn biscuit dough in the slow cooker. Cook until the dough is no longer raw in the center.\\n',\n",
              " 'picture_link': '55lznCYBbs2mT8BTx6BTkLhynGHzM.S',\n",
              " 'title': 'Slow Cooker Chicken and Dumplings'}"
            ]
          },
          "metadata": {
            "tags": []
          },
          "execution_count": 8
        }
      ]
    },
    {
      "cell_type": "code",
      "metadata": {
        "id": "jD1CfJ76IL5j"
      },
      "source": [
        "recipe_sources = ['ar','epi','fn']"
      ],
      "execution_count": 9,
      "outputs": []
    },
    {
      "cell_type": "code",
      "metadata": {
        "id": "t9cnhWgBJEEn"
      },
      "source": [
        "df = pd.DataFrame()\n",
        "\n",
        "sources, titles, ingredients, instructions = [],[],[],[]  \n",
        "\n",
        "for recipe_source in recipe_sources:\n",
        "  data = json.load(open(f'Dataset/recipes_raw_nosource_{recipe_source}.json', 'r'))\n",
        "  \n",
        "  for _, recipe in data.items():\n",
        "    if ('title' in recipe) and ('ingredients' in recipe) and ('instructions' in recipe):\n",
        "      sources.append(recipe_source)\n",
        "      titles.append(recipe['title'])\n",
        "      ingredients.append([ingredient.replace('ADVERTISEMENT', '') for ingredient in recipe['ingredients']])\n",
        "      instructions.append(str(recipe['instructions']).replace('ADVERTISEMENT', '').replace('\\n', ' '))\n",
        "df['source'] = sources\n",
        "df['title'] = titles\n",
        "df['ingredients'] = ingredients\n",
        "df['instructions'] = instructions"
      ],
      "execution_count": 10,
      "outputs": []
    },
    {
      "cell_type": "code",
      "metadata": {
        "id": "N4b_S52VN2xL"
      },
      "source": [
        "df.to_pickle('temp.pkl')"
      ],
      "execution_count": 11,
      "outputs": []
    },
    {
      "cell_type": "code",
      "metadata": {
        "id": "mWP62q6naAyK"
      },
      "source": [
        "df['ingredient_count'] = df['ingredients'].str.len().fillna(0).astype(int) #If NULL, fill 0\n",
        "df['instruction_length'] = df['instructions'].str.split().str.len().fillna(0).astype(int)"
      ],
      "execution_count": 12,
      "outputs": []
    },
    {
      "cell_type": "code",
      "metadata": {
        "colab": {
          "base_uri": "https://localhost:8080/",
          "height": 374
        },
        "id": "A6pPlFnNbsb5",
        "outputId": "f12462b6-9197-4907-89d1-34b4ff8312d3"
      },
      "source": [
        "df.head()"
      ],
      "execution_count": 13,
      "outputs": [
        {
          "output_type": "execute_result",
          "data": {
            "text/html": [
              "<div>\n",
              "<style scoped>\n",
              "    .dataframe tbody tr th:only-of-type {\n",
              "        vertical-align: middle;\n",
              "    }\n",
              "\n",
              "    .dataframe tbody tr th {\n",
              "        vertical-align: top;\n",
              "    }\n",
              "\n",
              "    .dataframe thead th {\n",
              "        text-align: right;\n",
              "    }\n",
              "</style>\n",
              "<table border=\"1\" class=\"dataframe\">\n",
              "  <thead>\n",
              "    <tr style=\"text-align: right;\">\n",
              "      <th></th>\n",
              "      <th>source</th>\n",
              "      <th>title</th>\n",
              "      <th>ingredients</th>\n",
              "      <th>instructions</th>\n",
              "      <th>ingredient_count</th>\n",
              "      <th>instruction_length</th>\n",
              "    </tr>\n",
              "  </thead>\n",
              "  <tbody>\n",
              "    <tr>\n",
              "      <th>0</th>\n",
              "      <td>ar</td>\n",
              "      <td>Slow Cooker Chicken and Dumplings</td>\n",
              "      <td>[4 skinless, boneless chicken breast halves , ...</td>\n",
              "      <td>Place the chicken, butter, soup, and onion in ...</td>\n",
              "      <td>6</td>\n",
              "      <td>53</td>\n",
              "    </tr>\n",
              "    <tr>\n",
              "      <th>1</th>\n",
              "      <td>ar</td>\n",
              "      <td>Awesome Slow Cooker Pot Roast</td>\n",
              "      <td>[2 (10.75 ounce) cans condensed cream of mushr...</td>\n",
              "      <td>In a slow cooker, mix cream of mushroom soup, ...</td>\n",
              "      <td>5</td>\n",
              "      <td>44</td>\n",
              "    </tr>\n",
              "    <tr>\n",
              "      <th>2</th>\n",
              "      <td>ar</td>\n",
              "      <td>Brown Sugar Meatloaf</td>\n",
              "      <td>[1/2 cup packed brown sugar , 1/2 cup ketchup ...</td>\n",
              "      <td>Preheat oven to 350 degrees F (175 degrees C)....</td>\n",
              "      <td>11</td>\n",
              "      <td>67</td>\n",
              "    </tr>\n",
              "    <tr>\n",
              "      <th>3</th>\n",
              "      <td>ar</td>\n",
              "      <td>Best Chocolate Chip Cookies</td>\n",
              "      <td>[1 cup butter, softened , 1 cup white sugar , ...</td>\n",
              "      <td>Preheat oven to 350 degrees F (175 degrees C)....</td>\n",
              "      <td>12</td>\n",
              "      <td>74</td>\n",
              "    </tr>\n",
              "    <tr>\n",
              "      <th>4</th>\n",
              "      <td>ar</td>\n",
              "      <td>Homemade Mac and Cheese Casserole</td>\n",
              "      <td>[8 ounces whole wheat rotini pasta , 3 cups fr...</td>\n",
              "      <td>Preheat oven to 350 degrees F. Line a 2-quart ...</td>\n",
              "      <td>14</td>\n",
              "      <td>175</td>\n",
              "    </tr>\n",
              "  </tbody>\n",
              "</table>\n",
              "</div>"
            ],
            "text/plain": [
              "  source  ... instruction_length\n",
              "0     ar  ...                 53\n",
              "1     ar  ...                 44\n",
              "2     ar  ...                 67\n",
              "3     ar  ...                 74\n",
              "4     ar  ...                175\n",
              "\n",
              "[5 rows x 6 columns]"
            ]
          },
          "metadata": {
            "tags": []
          },
          "execution_count": 13
        }
      ]
    },
    {
      "cell_type": "code",
      "metadata": {
        "colab": {
          "base_uri": "https://localhost:8080/",
          "height": 604
        },
        "id": "kA7p3evTbzT0",
        "outputId": "9cad3b4c-4afb-41d4-8a3f-e3636d00753c"
      },
      "source": [
        "sns.boxplot(data=df, x='source', y='ingredient_count', showfliers = False)\n",
        "# Source coming from Food Network seems to have slightly more large ingredient count, i.e recipes with more ingredients."
      ],
      "execution_count": 14,
      "outputs": [
        {
          "output_type": "execute_result",
          "data": {
            "text/plain": [
              "<matplotlib.axes._subplots.AxesSubplot at 0x7f569e9df610>"
            ]
          },
          "metadata": {
            "tags": []
          },
          "execution_count": 14
        },
        {
          "output_type": "display_data",
          "data": {
            "image/png": "[encoded data removed]",
            "text/plain": [
              "<Figure size 1200x800 with 1 Axes>"
            ]
          },
          "metadata": {
            "tags": []
          }
        }
      ]
    },
    {
      "cell_type": "code",
      "metadata": {
        "colab": {
          "base_uri": "https://localhost:8080/",
          "height": 590
        },
        "id": "zt6aVnYDcIjs",
        "outputId": "f7716bfc-9b97-412e-e498-812d4d28f9a5"
      },
      "source": [
        "sns.boxplot(data=df, x='source', y='instruction_length', showfliers = False)\n",
        "# Generally, the source coming from Epicurious recipe seem to have larger instruction length"
      ],
      "execution_count": 15,
      "outputs": [
        {
          "output_type": "execute_result",
          "data": {
            "text/plain": [
              "<matplotlib.axes._subplots.AxesSubplot at 0x7f563eda9b10>"
            ]
          },
          "metadata": {
            "tags": []
          },
          "execution_count": 15
        },
        {
          "output_type": "display_data",
          "data": {
            "image/png": "[encoded data removed]",
            "text/plain": [
              "<Figure size 1200x800 with 1 Axes>"
            ]
          },
          "metadata": {
            "tags": []
          }
        }
      ]
    },
    {
      "cell_type": "code",
      "metadata": {
        "id": "V3DQS2u0lEiC"
      },
      "source": [
        "df.to_pickle('df_recipes_raw.pkl')"
      ],
      "execution_count": 16,
      "outputs": []
    },
    {
      "cell_type": "markdown",
      "metadata": {
        "id": "87zmr73bkwB_"
      },
      "source": [
        "## 3. Dataset Preparation"
      ]
    },
    {
      "cell_type": "code",
      "metadata": {
        "id": "qupUeoMQcbo9"
      },
      "source": [
        "import pandas as pd"
      ],
      "execution_count": 17,
      "outputs": []
    },
    {
      "cell_type": "code",
      "metadata": {
        "id": "zH35sdevk2us"
      },
      "source": [
        "df = pd.read_pickle('df_recipes_raw.pkl')"
      ],
      "execution_count": 18,
      "outputs": []
    },
    {
      "cell_type": "code",
      "metadata": {
        "id": "U1dr6qVtk7BU"
      },
      "source": [
        "special_token = ' <|endoftext|> '"
      ],
      "execution_count": 19,
      "outputs": []
    },
    {
      "cell_type": "code",
      "metadata": {
        "colab": {
          "base_uri": "https://localhost:8080/"
        },
        "id": "lm0B3CSUmckk",
        "outputId": "45df7ab1-0202-401c-f3eb-b297eacff4e2"
      },
      "source": [
        "print(df.shape)"
      ],
      "execution_count": 20,
      "outputs": [
        {
          "output_type": "stream",
          "text": [
            "(124647, 6)\n"
          ],
          "name": "stdout"
        }
      ]
    },
    {
      "cell_type": "code",
      "metadata": {
        "id": "-pfTWCwMmk4z"
      },
      "source": [
        "df = df[(df.ingredient_count>=3) & (df.instruction_length>=10)]"
      ],
      "execution_count": 21,
      "outputs": []
    },
    {
      "cell_type": "code",
      "metadata": {
        "colab": {
          "base_uri": "https://localhost:8080/"
        },
        "id": "khBXm8KVm2nu",
        "outputId": "dd586a16-6836-49d7-a51a-eaaa8d39bb5b"
      },
      "source": [
        "print(df.shape)"
      ],
      "execution_count": 22,
      "outputs": [
        {
          "output_type": "stream",
          "text": [
            "(121780, 6)\n"
          ],
          "name": "stdout"
        }
      ]
    },
    {
      "cell_type": "code",
      "metadata": {
        "id": "yl-XCxnjm82e"
      },
      "source": [
        "# Ingredients: \\n Instructions: special_token\n",
        "df['combined'] = ' \\n Ingredients: \\n' + df.ingredients.str.join(' \\n ') + ' \\n Instructions: \\n' + df.instructions + special_token"
      ],
      "execution_count": 23,
      "outputs": []
    },
    {
      "cell_type": "code",
      "metadata": {
        "colab": {
          "base_uri": "https://localhost:8080/"
        },
        "id": "ee9Rkw-Zn2h3",
        "outputId": "4bd07ad4-41cd-4d7f-edf2-c60beecbb3ef"
      },
      "source": [
        "df.iloc[100].ingredients"
      ],
      "execution_count": 24,
      "outputs": [
        {
          "output_type": "execute_result",
          "data": {
            "text/plain": [
              "['1/2 cup butter, melted ',\n",
              " '2 eggs, beaten ',\n",
              " '1 (8.5 ounce) package dry corn bread mix ',\n",
              " '1 (15 ounce) can whole kernel corn, drained ',\n",
              " '1 (14.75 ounce) can creamed corn ',\n",
              " '1 cup sour cream ',\n",
              " '']"
            ]
          },
          "metadata": {
            "tags": []
          },
          "execution_count": 24
        }
      ]
    },
    {
      "cell_type": "code",
      "metadata": {
        "colab": {
          "base_uri": "https://localhost:8080/",
          "height": 69
        },
        "id": "eKeUQSK8oBVv",
        "outputId": "6ef5ec32-85d2-4186-89d2-cd6510476c57"
      },
      "source": [
        "df.iloc[100].instructions"
      ],
      "execution_count": 25,
      "outputs": [
        {
          "output_type": "execute_result",
          "data": {
            "application/vnd.google.colaboratory.intrinsic+json": {
              "type": "string"
            },
            "text/plain": [
              "'Preheat oven to 350 degrees F (175 degrees C), and lightly grease a 9x9 inch baking dish. In a medium bowl, combine butter, eggs, corn bread mix, whole and creamed corn and sour cream. Spoon mixture into prepared dish. Bake for 45 minutes in the preheated oven, or until the top is golden brown. '"
            ]
          },
          "metadata": {
            "tags": []
          },
          "execution_count": 25
        }
      ]
    },
    {
      "cell_type": "code",
      "metadata": {
        "colab": {
          "base_uri": "https://localhost:8080/"
        },
        "id": "u3v27lazoG5t",
        "outputId": "3091edf6-e089-4f9f-f095-01a377171f2c"
      },
      "source": [
        "print(df.iloc[100].combined)"
      ],
      "execution_count": 26,
      "outputs": [
        {
          "output_type": "stream",
          "text": [
            " \n",
            " Ingredients: \n",
            "1/2 cup butter, melted  \n",
            " 2 eggs, beaten  \n",
            " 1 (8.5 ounce) package dry corn bread mix  \n",
            " 1 (15 ounce) can whole kernel corn, drained  \n",
            " 1 (14.75 ounce) can creamed corn  \n",
            " 1 cup sour cream  \n",
            "  \n",
            " Instructions: \n",
            "Preheat oven to 350 degrees F (175 degrees C), and lightly grease a 9x9 inch baking dish. In a medium bowl, combine butter, eggs, corn bread mix, whole and creamed corn and sour cream. Spoon mixture into prepared dish. Bake for 45 minutes in the preheated oven, or until the top is golden brown.  <|endoftext|> \n"
          ],
          "name": "stdout"
        }
      ]
    },
    {
      "cell_type": "code",
      "metadata": {
        "id": "3j2KKjMEoNd2"
      },
      "source": [
        "df.to_pickle('df_recipes_preprocessed.pkl')"
      ],
      "execution_count": 27,
      "outputs": []
    },
    {
      "cell_type": "code",
      "metadata": {
        "id": "cLQJ7KA0ocuD"
      },
      "source": [
        "dataset_train = df[:120000].combined.values\n",
        "dataset_val = df[120000:].combined.values"
      ],
      "execution_count": 28,
      "outputs": []
    },
    {
      "cell_type": "code",
      "metadata": {
        "id": "ls-04W2MovGF"
      },
      "source": [
        "with open('Dataset/dataset_train.txt', 'w') as f:\n",
        "  f.write('\\n'.join(dataset_train))\n",
        "\n",
        "with open('Dataset/dataset_val.txt', 'w') as f:\n",
        "  f.write('\\n'.join(dataset_val))"
      ],
      "execution_count": 29,
      "outputs": []
    },
    {
      "cell_type": "markdown",
      "metadata": {
        "id": "xlhLR5BAp9-s"
      },
      "source": [
        "## 4. GPT-2 Pretrained Model Formulation and Theory"
      ]
    },
    {
      "cell_type": "code",
      "metadata": {
        "id": "85IAPIPbprFz"
      },
      "source": [
        "#Using transformer library from huggingface.co\n",
        "from transformers import AutoTokenizer, AutoModelForCausalLM"
      ],
      "execution_count": 30,
      "outputs": []
    },
    {
      "cell_type": "markdown",
      "metadata": {
        "id": "mZTKxk8Aq1NQ"
      },
      "source": [
        "Here, I will be using a distilled version of Generative Pre-trained Transformer (GPT)-2 NLP model. Essentially, distilled model has a teacher\n",
        "student relationship between two models. \n",
        "<br><br>\n",
        "I. If you've got a huge model and you've got some inputs, It's trained to predict some label during training. But what actually happens once it's trained?\n",
        "\n",
        "input > huge_model > label<br>\n",
        "^ During training\n",
        "<br><br>\n",
        "II. Once it's trained, you've got input, a huge model and some very good predictions, which ideally follow these labels very well.\n",
        "\n",
        "input > huge_model > predictions<br>\n",
        "^ Trained\n",
        "<br><br>\n",
        "III. Distilled model\n",
        "\n",
        "input > smaller_model > predictions<br>\n",
        "^ During training\n",
        "<br>\n",
        "Now what you do with the Distilled model is you\n",
        "actually take this trained model and you train a new, smaller model to do the predictions that the big model's doing. So you train a new model to take the inputs and we call it the smaller model, and this is the student model to predict the predictions off the huge model during training. \n",
        "<br>\n",
        "Now the power of this is the Smaller model is actually\n",
        "learning what they call dark knowledge. It's knowledge that the big model has about its data that might not be present in the label. So, for instance, if you just picture in the vision space, you've got prediction for a Dog, a Cat or a Horse. The huge model is trained to only predict, let's say, a picture of a dog, so it must do 100% Dog\n",
        "0% Cat 0% Horse.<br>\n",
        "But when it's trained, what the huge model might actually learn is that dogs and cats have some similar features, so it might say it's 80% sure it's a dog, 19% sure it's a cat and 1% sure that it's a horse.<br>\n",
        "Now what that does by transferring that kind of knowledge into a smaller model is you're actually learning this dark knowledge, and it's quite\n",
        "useful.\n",
        "\n",
        "Hence, I will be using a distilled version of GPT-2 just so that it's much more accessible, much faster to use both for training and for inference.\n"
      ]
    },
    {
      "cell_type": "code",
      "metadata": {
        "colab": {
          "base_uri": "https://localhost:8080/",
          "height": 262,
          "referenced_widgets": [
            "d37a387315974456a4eec027b3a5f116",
            "571bac6d6ec940df9a8aafbb0271896d",
            "54dec9c4d1ed422d84cbe5c6c11945d0",
            "0972f04d751d4b51ac4533a41a08e46f",
            "7c2accd93bcb477892de9fa0bd3788ac",
            "8fefe4a8acc241b6b3c1efc97cea0f6a",
            "11022f03eeb44c53a5a95b1f94002ea3",
            "6906209b3b6047ebb060e0e84b3c4021",
            "29fb61789af141feb9c0b874102157ec",
            "50f6e623f02647969fca9e2e169ad6be",
            "db8ce173dbb74cf18e6bd29402c553ab",
            "11aed7382963491b92d3fffebb8de49a",
            "a0ee0308822e48ca948dfc814207ebcc",
            "e753705b0648492083937842b1811f6c",
            "eed27e95c5ba4cbca1ec9abca3b1f5d4",
            "6c3fc449793d463e97f5e97ff522d37e",
            "6ff68b2dcf8341d395a052cb25909634",
            "bfd8a813ad84488fb0c05b2009b7a721",
            "f3cb968446df4f8788fbd658766ec5ea",
            "c8def0dc0d2f4269821fb4c274c55ffe",
            "e66fedde77f6439e9c990df5b8701f1f",
            "b3017b2c374a4d96b5a111c9017e6a78",
            "e289f98085584ce3999d743c8d0e949c",
            "2ea7a156e0d04e2987a6fb788d5ee16a",
            "aca73780401b42d895cefeef1e146849",
            "c72c04a3e1cb4aec80cf3e6efd79905d",
            "4eff579a26da43859fbfd18f237be1ac",
            "1404493a4b264ea2b8db1ae7334997dc",
            "aea2561dfd304923a57445dd101805ba",
            "c769beb0c161463b9a30a84b918d10a7",
            "4e19bd66fcfe4668a818ad5e473fd303",
            "3c6fb4ba8ec546d39623a7e5ef09f817",
            "9248c7ea536c49ae819106ef8a2720c2",
            "a97bdbb96e5d432fbbad230b8f209cb8",
            "f8ba5516192e4d77a12251afeca41692",
            "b8df468726ed4a08a16a3c46283c01d5",
            "73e389ecd4464af6a3b77537c21c9466",
            "bfad39fe00d9485b86ef312d9344526b",
            "799f408535c44f39be53e01ca12e3897",
            "97b2bbd4227849a696efe54dc21ac1be"
          ]
        },
        "id": "9SOZIAUcrnhY",
        "outputId": "71f239d8-d552-4ba7-aab0-76c20e239c71"
      },
      "source": [
        "tokenizer = AutoTokenizer.from_pretrained('distilgpt2')\n",
        "model = AutoModelForCausalLM.from_pretrained('distilgpt2')"
      ],
      "execution_count": 31,
      "outputs": [
        {
          "output_type": "display_data",
          "data": {
            "application/vnd.jupyter.widget-view+json": {
              "model_id": "d37a387315974456a4eec027b3a5f116",
              "version_minor": 0,
              "version_major": 2
            },
            "text/plain": [
              "HBox(children=(FloatProgress(value=0.0, description='Downloading', max=762.0, style=ProgressStyle(description_…"
            ]
          },
          "metadata": {
            "tags": []
          }
        },
        {
          "output_type": "stream",
          "text": [
            "\n"
          ],
          "name": "stdout"
        },
        {
          "output_type": "display_data",
          "data": {
            "application/vnd.jupyter.widget-view+json": {
              "model_id": "29fb61789af141feb9c0b874102157ec",
              "version_minor": 0,
              "version_major": 2
            },
            "text/plain": [
              "HBox(children=(FloatProgress(value=0.0, description='Downloading', max=1042301.0, style=ProgressStyle(descript…"
            ]
          },
          "metadata": {
            "tags": []
          }
        },
        {
          "output_type": "stream",
          "text": [
            "\n"
          ],
          "name": "stdout"
        },
        {
          "output_type": "display_data",
          "data": {
            "application/vnd.jupyter.widget-view+json": {
              "model_id": "6ff68b2dcf8341d395a052cb25909634",
              "version_minor": 0,
              "version_major": 2
            },
            "text/plain": [
              "HBox(children=(FloatProgress(value=0.0, description='Downloading', max=456318.0, style=ProgressStyle(descripti…"
            ]
          },
          "metadata": {
            "tags": []
          }
        },
        {
          "output_type": "stream",
          "text": [
            "\n"
          ],
          "name": "stdout"
        },
        {
          "output_type": "display_data",
          "data": {
            "application/vnd.jupyter.widget-view+json": {
              "model_id": "aca73780401b42d895cefeef1e146849",
              "version_minor": 0,
              "version_major": 2
            },
            "text/plain": [
              "HBox(children=(FloatProgress(value=0.0, description='Downloading', max=1355256.0, style=ProgressStyle(descript…"
            ]
          },
          "metadata": {
            "tags": []
          }
        },
        {
          "output_type": "stream",
          "text": [
            "\n"
          ],
          "name": "stdout"
        },
        {
          "output_type": "display_data",
          "data": {
            "application/vnd.jupyter.widget-view+json": {
              "model_id": "9248c7ea536c49ae819106ef8a2720c2",
              "version_minor": 0,
              "version_major": 2
            },
            "text/plain": [
              "HBox(children=(FloatProgress(value=0.0, description='Downloading', max=352833716.0, style=ProgressStyle(descri…"
            ]
          },
          "metadata": {
            "tags": []
          }
        },
        {
          "output_type": "stream",
          "text": [
            "\n"
          ],
          "name": "stdout"
        }
      ]
    },
    {
      "cell_type": "code",
      "metadata": {
        "colab": {
          "base_uri": "https://localhost:8080/"
        },
        "id": "96lv0AU3zs_A",
        "outputId": "ee752934-2762-4f5c-f0a5-5907b8f8dc4f"
      },
      "source": [
        "prompt_text = 'Yesterday, I walked to the shop, and'\n",
        "\n",
        "encoded_prompt = tokenizer.encode(\n",
        "    prompt_text,\n",
        "    add_special_tokens=False,\n",
        "    return_tensors='pt' #or tf\n",
        "    )\n",
        "encoded_prompt"
      ],
      "execution_count": 32,
      "outputs": [
        {
          "output_type": "execute_result",
          "data": {
            "text/plain": [
              "tensor([[28065,    11,   314,  6807,   284,   262,  6128,    11,   290]])"
            ]
          },
          "metadata": {
            "tags": []
          },
          "execution_count": 32
        }
      ]
    },
    {
      "cell_type": "code",
      "metadata": {
        "colab": {
          "base_uri": "https://localhost:8080/"
        },
        "id": "Efi1ghAC0wgJ",
        "outputId": "11ff71ee-377f-4b66-e027-628f578df8d8"
      },
      "source": [
        "#Look at the documentation what each parameters does\n",
        "output_sequences = model.generate(\n",
        "    input_ids=encoded_prompt,\n",
        "    max_length=200,\n",
        "    temperature=0.9,\n",
        "    top_k=20,\n",
        "    top_p=0.9,\n",
        "    repetition_penalty=1,\n",
        "    do_sample=True,\n",
        "    num_return_sequences=2,\n",
        ")"
      ],
      "execution_count": 33,
      "outputs": [
        {
          "output_type": "stream",
          "text": [
            "Setting `pad_token_id` to `eos_token_id`:50256 for open-end generation.\n"
          ],
          "name": "stderr"
        }
      ]
    },
    {
      "cell_type": "code",
      "metadata": {
        "colab": {
          "base_uri": "https://localhost:8080/",
          "height": 154
        },
        "id": "hKr0-gjD2brl",
        "outputId": "a8d20831-79a0-44ec-b45a-d6dab8d0aa5b"
      },
      "source": [
        "#output_sequences[0]\n",
        "tokenizer.decode(output_sequences[0])"
      ],
      "execution_count": 34,
      "outputs": [
        {
          "output_type": "execute_result",
          "data": {
            "application/vnd.google.colaboratory.intrinsic+json": {
              "type": "string"
            },
            "text/plain": [
              "'Yesterday, I walked to the shop, and the customer looked over at my laptop, and he was like, \"Okay, what about the laptop, you should look at my laptop and see what\\'s there?\" The customer then called me and told me that I should look into his laptop, and he would go to check the laptop\\'s computer.\\n\\nI did not have a laptop, and it was an iPad, and he had a laptop. He had my laptop and a notebook. I was going to buy a laptop, and I was going to go buy it.\\nThen I went to the store. The clerk asked me, \"Where is my laptop, I need it?\" He said, \"I need a laptop. I need the laptop. I need the laptop. I need my laptop. I need my laptop. I need my laptop. I need my laptop. I need my laptop. I need my laptop. I need my laptop. I need my laptop. I need my'"
            ]
          },
          "metadata": {
            "tags": []
          },
          "execution_count": 34
        }
      ]
    },
    {
      "cell_type": "code",
      "metadata": {
        "id": "mWTnETtk3R3I"
      },
      "source": [
        "#model.generate?"
      ],
      "execution_count": 35,
      "outputs": []
    },
    {
      "cell_type": "markdown",
      "metadata": {
        "id": "8J0I51pj4zBQ"
      },
      "source": [
        "## 5. HuggingFace Integration and Model Training"
      ]
    },
    {
      "cell_type": "code",
      "metadata": {
        "id": "ohZuXSj08zXu"
      },
      "source": [
        "#Optional\n",
        "#!bash run_experiments.sh"
      ],
      "execution_count": 36,
      "outputs": []
    },
    {
      "cell_type": "markdown",
      "metadata": {
        "id": "rQEvaZ8mZbjT"
      },
      "source": [
        "## 6. Investigating Finetuning Model Performance"
      ]
    },
    {
      "cell_type": "code",
      "metadata": {
        "id": "5RmZSgv09B08"
      },
      "source": [
        "from transformers import AutoTokenizer, AutoModelForCausalLM"
      ],
      "execution_count": 37,
      "outputs": []
    },
    {
      "cell_type": "code",
      "metadata": {
        "id": "ZlpmQxyKZmxN"
      },
      "source": [
        "tokenizer =  AutoTokenizer.from_pretrained('TrainedModels/Model_10_epochs/')\n",
        "model = AutoModelForCausalLM.from_pretrained('TrainedModels/Model_10_epochs/')"
      ],
      "execution_count": 38,
      "outputs": []
    },
    {
      "cell_type": "code",
      "metadata": {
        "id": "mtKP0DaQaNFz"
      },
      "source": [
        "with open('Dataset/dataset_val.txt','r') as f:\n",
        "  data = f.read()"
      ],
      "execution_count": 39,
      "outputs": []
    },
    {
      "cell_type": "code",
      "metadata": {
        "id": "cNrgCYPPa6rV"
      },
      "source": [
        "special_token = ' <|endoftext|> '"
      ],
      "execution_count": 40,
      "outputs": []
    },
    {
      "cell_type": "code",
      "metadata": {
        "id": "nD-9hxrSbJy9"
      },
      "source": [
        "data = data.split(special_token)"
      ],
      "execution_count": 41,
      "outputs": []
    },
    {
      "cell_type": "code",
      "metadata": {
        "colab": {
          "base_uri": "https://localhost:8080/",
          "height": 188
        },
        "id": "_hf6bEUwbMNi",
        "outputId": "9c892b15-c401-4bc2-954c-b46bf97d745c"
      },
      "source": [
        "data[0]"
      ],
      "execution_count": 42,
      "outputs": [
        {
          "output_type": "execute_result",
          "data": {
            "application/vnd.google.colaboratory.intrinsic+json": {
              "type": "string"
            },
            "text/plain": [
              "' \\n Ingredients: \\n4 tablespoons unsalted butter \\n 1 onion, diced \\n 1 carrot, peeled and diced \\n 1 celery rib, washed and diced \\n 4 ears corn, husked and kernels removed \\n 6 baby red new potatoes, unpeeled, washed and diced \\n 1 quart clam juice \\n 1 cup dry white wine \\n 3 1/2 pounds Littleneck clams, Manila clams or Cockles in the shell \\n 1 Italian Roma tomato, cored, seeded and diced \\n 1 red bell pepper, cored, seeded and diced \\n 1 jalapeno chile, stemmed, seeded, if desired \\n 1 bunch cilantro, leaves only, chopped \\n Juice of 1 lime \\n 1/2 teaspoon freshly ground black pepper \\n Salt to taste \\n Instructions: \\nMelt the butter in a large stockpot over moderate heat. Saute the onions for 10 minutes. Add the carrots, celery, corn and potatoes and saute 2 minutes longer. Pour in the clam juice. Bring to a boil, reduce to a simmer and cook 30 minutes. Meanwhile, bring the white wine to a boil in a large saucepan and reduce by one-third. Add the clams, cover and steam, shaking the pan occasionally, until the clams open up, 5 to 7 minutes. Remove and discard any that do not open. Remove the cover and let the clams cool in the pot. When cool enough to handle, separate the meat from the shells, reserving the juice, and chop the clams. Set aside. Reserve the cooking liquid. Add the tomato, red pepper and jalapeno to the soup pot and cook over low heat an additional 10 minutes. Strain the reserved cooking juices and clam juice through a fine kitchen towel or coffee filter into the soup. Add the chopped clams and cook 10 more minutes. Stir in the cilantro, lime juice and pepper. Taste for salt, since the clams may be salty, and serve steaming hot.'"
            ]
          },
          "metadata": {
            "tags": []
          },
          "execution_count": 42
        }
      ]
    },
    {
      "cell_type": "code",
      "metadata": {
        "colab": {
          "base_uri": "https://localhost:8080/"
        },
        "id": "E3HBJeJabM9b",
        "outputId": "979a5892-ddde-430c-e9dd-54f2fa47da1f"
      },
      "source": [
        "print(data[0])"
      ],
      "execution_count": 43,
      "outputs": [
        {
          "output_type": "stream",
          "text": [
            " \n",
            " Ingredients: \n",
            "4 tablespoons unsalted butter \n",
            " 1 onion, diced \n",
            " 1 carrot, peeled and diced \n",
            " 1 celery rib, washed and diced \n",
            " 4 ears corn, husked and kernels removed \n",
            " 6 baby red new potatoes, unpeeled, washed and diced \n",
            " 1 quart clam juice \n",
            " 1 cup dry white wine \n",
            " 3 1/2 pounds Littleneck clams, Manila clams or Cockles in the shell \n",
            " 1 Italian Roma tomato, cored, seeded and diced \n",
            " 1 red bell pepper, cored, seeded and diced \n",
            " 1 jalapeno chile, stemmed, seeded, if desired \n",
            " 1 bunch cilantro, leaves only, chopped \n",
            " Juice of 1 lime \n",
            " 1/2 teaspoon freshly ground black pepper \n",
            " Salt to taste \n",
            " Instructions: \n",
            "Melt the butter in a large stockpot over moderate heat. Saute the onions for 10 minutes. Add the carrots, celery, corn and potatoes and saute 2 minutes longer. Pour in the clam juice. Bring to a boil, reduce to a simmer and cook 30 minutes. Meanwhile, bring the white wine to a boil in a large saucepan and reduce by one-third. Add the clams, cover and steam, shaking the pan occasionally, until the clams open up, 5 to 7 minutes. Remove and discard any that do not open. Remove the cover and let the clams cool in the pot. When cool enough to handle, separate the meat from the shells, reserving the juice, and chop the clams. Set aside. Reserve the cooking liquid. Add the tomato, red pepper and jalapeno to the soup pot and cook over low heat an additional 10 minutes. Strain the reserved cooking juices and clam juice through a fine kitchen towel or coffee filter into the soup. Add the chopped clams and cook 10 more minutes. Stir in the cilantro, lime juice and pepper. Taste for salt, since the clams may be salty, and serve steaming hot.\n"
          ],
          "name": "stdout"
        }
      ]
    },
    {
      "cell_type": "code",
      "metadata": {
        "id": "L4Ye7CN0bUXC"
      },
      "source": [
        "prompt_text = data[100].split('Instructions:')[0] + '\\n Instructions: \\n'"
      ],
      "execution_count": 44,
      "outputs": []
    },
    {
      "cell_type": "code",
      "metadata": {
        "colab": {
          "base_uri": "https://localhost:8080/"
        },
        "id": "QaoXzzYsbkW5",
        "outputId": "2584bfe6-35c2-4fb4-9b4c-a5248eadf63a"
      },
      "source": [
        "print(prompt_text)"
      ],
      "execution_count": 45,
      "outputs": [
        {
          "output_type": "stream",
          "text": [
            "\n",
            " \n",
            " Ingredients: \n",
            "1 medium banana, peeled and cut into 1/4-inch pieces to yield about 3/4 cup \n",
            " 1/4 packed cup light brown sugar \n",
            " 1/3 cup finely chopped walnuts \n",
            " 16 won ton wrappers \n",
            " 1 egg, beaten \n",
            " 1/3 cup chocolate-hazelnut spread (recommended: Nutella) or creamy peanut butter \n",
            " Vegetable oil, for frying \n",
            " \n",
            " Instructions: \n",
            "\n"
          ],
          "name": "stdout"
        }
      ]
    },
    {
      "cell_type": "code",
      "metadata": {
        "id": "wpd-erj7fLJM"
      },
      "source": [
        "prompt_text = 'Ingredients: \\n 5 eggs \\n butter \\n cheese \\n breadcrumbs \\n'\n",
        "prompt_text += '\\n Instructions: '"
      ],
      "execution_count": 46,
      "outputs": []
    },
    {
      "cell_type": "code",
      "metadata": {
        "id": "RiKwhUsYblxI"
      },
      "source": [
        "encoded_prompt = tokenizer.encode(\n",
        "    prompt_text,\n",
        "    add_special_tokens=False,\n",
        "    return_tensors='pt'\n",
        ")"
      ],
      "execution_count": 47,
      "outputs": []
    },
    {
      "cell_type": "code",
      "metadata": {
        "colab": {
          "base_uri": "https://localhost:8080/"
        },
        "id": "kwxKa-fNcNyp",
        "outputId": "32d06157-89c8-45c3-f9e9-95f8792d6922"
      },
      "source": [
        "output_sequences = model.generate(\n",
        "    input_ids=encoded_prompt,\n",
        "    max_length=700,\n",
        "    temperature=0.9,\n",
        "    top_k=20,\n",
        "    top_p=0.9,\n",
        "    repetition_penalty=1,\n",
        "    do_sample=True,\n",
        "    num_return_sequences=4,\n",
        ")"
      ],
      "execution_count": 48,
      "outputs": [
        {
          "output_type": "stream",
          "text": [
            "Setting `pad_token_id` to `eos_token_id`:50256 for open-end generation.\n"
          ],
          "name": "stderr"
        }
      ]
    },
    {
      "cell_type": "code",
      "metadata": {
        "id": "f9jHW18cgAyJ"
      },
      "source": [
        "for i, output_sequence in enumerate(output_sequences):\n",
        "  result = tokenizer.decode(output_sequence)\n",
        "  result = result[:result.index(special_token)]\n",
        "  print('---')\n",
        "  print(f'Generated Output #{i+1}')\n",
        "  print('---')\n",
        "  print(result)"
      ],
      "execution_count": null,
      "outputs": []
    }
  ]
}